{
  "nbformat": 4,
  "nbformat_minor": 0,
  "metadata": {
    "colab": {
      "name": "EP assignment 510.ipynb",
      "provenance": [],
      "collapsed_sections": [],
      "authorship_tag": "ABX9TyOZ3ewWUIoVE8s9uTb/1rF6",
      "include_colab_link": true
    },
    "kernelspec": {
      "name": "python3",
      "display_name": "Python 3"
    },
    "language_info": {
      "name": "python"
    }
  },
  "cells": [
    {
      "cell_type": "markdown",
      "metadata": {
        "id": "view-in-github",
        "colab_type": "text"
      },
      "source": [
        "<a href=\"https://colab.research.google.com/github/krishna18122001/EP-Assignment/blob/main/EP_assignment_510.ipynb\" target=\"_parent\"><img src=\"https://colab.research.google.com/assets/colab-badge.svg\" alt=\"Open In Colab\"/></a>"
      ]
    },
    {
      "cell_type": "markdown",
      "metadata": {
        "id": "jK0ojVF-HEVn"
      },
      "source": [
        "#Exercise 1\n",
        "\n"
      ]
    },
    {
      "cell_type": "markdown",
      "metadata": {
        "id": "jm8EGSM7HrIL"
      },
      "source": [
        "**write a program to demonstrate the use of basic datatypes**"
      ]
    },
    {
      "cell_type": "code",
      "metadata": {
        "colab": {
          "base_uri": "https://localhost:8080/"
        },
        "id": "Um-ZmVtUHpe3",
        "outputId": "85296578-bfea-4be2-85d5-06d3d035f112"
      },
      "source": [
        "a = int (input('Enter a number:'))\n",
        "print('The entered number is:',a)\n",
        "b = float (input('Enter a float number:'))\n",
        "print('The entered number is ',b)"
      ],
      "execution_count": null,
      "outputs": [
        {
          "output_type": "stream",
          "text": [
            "Enter a number:1\n",
            "The entered number is: 1\n",
            "Enter a float number:12.2\n",
            "The entered number is  12.2\n"
          ],
          "name": "stdout"
        }
      ]
    },
    {
      "cell_type": "markdown",
      "metadata": {
        "id": "YK4iO9MWLmdH"
      },
      "source": [
        "***Write a program to demonstrate the operations and expressions***"
      ]
    },
    {
      "cell_type": "code",
      "metadata": {
        "colab": {
          "base_uri": "https://localhost:8080/"
        },
        "id": "vV5peH3OJ5xx",
        "outputId": "d82886bd-1caa-4d8f-e567-1bb759e9f424"
      },
      "source": [
        "a = int (input('Enter a number :'))\n",
        "b = int (input('Enter a number :'))\n",
        "add = a + b\n",
        "print('The sum of the entered numbers is ',add)\n",
        "c = int (input('Enter a number :'))\n",
        "d = int (input('Enter a number :'))\n",
        "sub = c - d\n",
        "print('The subtraction of the entered numbers is ',sub)\n",
        "e = int (input('Enter a number :'))\n",
        "f = int (input('Enter a number :'))\n",
        "Mult = e * f\n",
        "print('The product of the entered numbers is ',Mult)\n",
        "g = int (input('Enter a number :'))\n",
        "h = int (input('Enter a number :'))\n",
        "div = g/h\n",
        "print('The division of the entered numbers is ',div)\n",
        "i = int (input('Enter a number :'))\n",
        "j = int (input('Enter a number :'))\n",
        "exp = i ** j\n",
        "print('The exponential of the entered numbers is ',exp)\n",
        "k =  int (input('Enter a number :'))\n",
        "l =  int (input('Enter a number :'))\n",
        "Mod = k % l \n",
        "print('The modulus of the entered numbers is ',Mod)\n",
        "m =  int (input('Enter a number :'))\n",
        "n =  int (input('Enter a number :'))\n",
        "floor = m // n\n",
        "print('The floor value of the entered numbers is ',floor)\n",
        "x = 19\n",
        "y = 98\n",
        "str1 = 'x**2 + x ** y + x*y - (x/y)'\n",
        "a = x**2 + x ** y + x*y - (x/y)\n",
        "print('The value of the expression {} is {}'.format(str1,a))"
      ],
      "execution_count": null,
      "outputs": [
        {
          "output_type": "stream",
          "text": [
            "Enter a number :1\n",
            "Enter a number :98\n",
            "The sum of the entered numbers is  99\n",
            "Enter a number :99\n",
            "Enter a number :1\n",
            "The subtraction of the entered numbers is  98\n",
            "Enter a number :1\n",
            "Enter a number :99\n",
            "The product of the entered numbers is  99\n",
            "Enter a number :99\n",
            "Enter a number :1\n",
            "The division of the entered numbers is  99.0\n",
            "Enter a number :99\n",
            "Enter a number :1\n",
            "The exponential of the entered numbers is  99\n",
            "Enter a number :1\n",
            "Enter a number :99\n",
            "The modulus of the entered numbers is  1\n",
            "Enter a number :11\n",
            "Enter a number :9\n",
            "The floor value of the entered numbers is  1\n",
            "The value of the expression x**2 + x ** y + x*y - (x/y) is 2.078992360062382e+125\n"
          ],
          "name": "stdout"
        }
      ]
    },
    {
      "cell_type": "markdown",
      "metadata": {
        "id": "am867naRM4pF"
      },
      "source": [
        "***Write a program to demonstrate the functions and parameter passing techniques***"
      ]
    },
    {
      "cell_type": "code",
      "metadata": {
        "colab": {
          "base_uri": "https://localhost:8080/"
        },
        "id": "6bWVtH6wMZzf",
        "outputId": "0cdc7f82-d657-4a02-9ccb-297c9f8d6d45"
      },
      "source": [
        "def my_function (a,b):\n",
        "  a = int (input('Enter a number:'))\n",
        "  b = int (input('Enter a number:'))\n",
        "  print(a+b)\n",
        "my_function (_,_)"
      ],
      "execution_count": null,
      "outputs": [
        {
          "output_type": "stream",
          "text": [
            "Enter a number:1\n",
            "Enter a number:4\n",
            "5\n"
          ],
          "name": "stdout"
        }
      ]
    },
    {
      "cell_type": "markdown",
      "metadata": {
        "id": "2kneLVnoQBTr"
      },
      "source": [
        "#Exercise 2"
      ]
    },
    {
      "cell_type": "markdown",
      "metadata": {
        "id": "HxnRrcFqQN3x"
      },
      "source": [
        "**Write a program to implement**\n",
        "\n",
        "**1)Packages**\n",
        "\n",
        "**2)Modules**\n",
        "\n",
        "**3)Built-in functions**"
      ]
    },
    {
      "cell_type": "code",
      "metadata": {
        "colab": {
          "base_uri": "https://localhost:8080/"
        },
        "id": "_sNDqIChQJo_",
        "outputId": "7804d457-b0d5-465a-8bc5-65bf4618bc4a"
      },
      "source": [
        "def person():\n",
        "  name = str(input(\"name:\"))\n",
        "  print(\"hey \"+str(name))\n",
        "person()\n",
        "def mult():\n",
        "  a = int (input(\"Enter a number a:\"))\n",
        "  b = int (input(\"Enter a number b:\"))\n",
        "  print(a*b)\n",
        "mult()"
      ],
      "execution_count": null,
      "outputs": [
        {
          "output_type": "stream",
          "text": [
            "name:krishna\n",
            "hey krishna\n",
            "Enter a number a:1\n",
            "Enter a number b:4\n",
            "4\n"
          ],
          "name": "stdout"
        }
      ]
    },
    {
      "cell_type": "markdown",
      "metadata": {
        "id": "GDf4RXfGe3yG"
      },
      "source": [
        "**Write a program to implement**\n",
        "\n",
        "**1)List**\n",
        "\n",
        "**2)Tuple**\n",
        "\n",
        "**3)Dictionary**"
      ]
    },
    {
      "cell_type": "code",
      "metadata": {
        "colab": {
          "base_uri": "https://localhost:8080/"
        },
        "id": "IPnL6FxWTUua",
        "outputId": "5a999b3f-12ce-4035-ac80-dbf032215d04"
      },
      "source": [
        "#dictionary\n",
        "a = {'a':1,'b':2,'c':3,'d':4}\n",
        "#list\n",
        "b=['krishna','1','vardhan']\n",
        "#tuple\n",
        "c=('johnson',1) \n",
        "print(a)\n",
        "print(b)\n",
        "print(c)"
      ],
      "execution_count": null,
      "outputs": [
        {
          "output_type": "stream",
          "text": [
            "{'a': 1, 'b': 2, 'c': 3, 'd': 4}\n",
            "['krishna', '1', 'vardhan']\n",
            "('johnson', 1)\n"
          ],
          "name": "stdout"
        }
      ]
    },
    {
      "cell_type": "markdown",
      "metadata": {
        "id": "Kl1KRwfGgIAI"
      },
      "source": [
        "**Programs on strings, strig operations and regular expressions**"
      ]
    },
    {
      "cell_type": "code",
      "metadata": {
        "colab": {
          "base_uri": "https://localhost:8080/"
        },
        "id": "EcIwNvIPfwiZ",
        "outputId": "d6c31f90-7a04-4465-86f3-9fd913a5f573"
      },
      "source": [
        "str1 = 'Hello, '\n",
        "str2 = 'good morning.'\n",
        "print(str1+str2)\n",
        "# String operations\n",
        "s = \"krishna vardhan?\"\n",
        "print(\"Length of s = %d\" % len(s))\n",
        "print(\"The first occurrence of the letter a = %d\" % s.index(\"a\"))\n",
        "print(\"a occurs %d times\" % s.count(\"a\"))\n",
        "\n",
        "print(\"The first five characters are '%s'\" % s[:5]) \n",
        "\n",
        "print(\"The next five characters are '%s'\" % s[5:10]) \n",
        "\n",
        "print(\"The thirteenth character is '%s'\" % s[12]) \n",
        "\n",
        "print(\"The characters with odd index are '%s'\" %s[1::2])\n",
        "\n",
        "print(\"The last five characters are '%s'\" % s[-5:]) \n",
        "\n",
        "print(\"String in uppercase: %s\" % s.upper())\n",
        "\n",
        "print(\"String in lowercase: %s\" % s.lower())\n",
        "\n",
        "\n",
        "if s.startswith(\"Str\"):\n",
        "    print(\"String starts with 'Str'. Good!\")\n",
        "\n",
        "\n",
        "if s.endswith(\"ome!\"):\n",
        "    print(\"String ends with 'ome!'. Good!\")\n",
        "\n",
        "print(\"Split the words of the string: %s\" % s.split(\" \"))\n",
        "#regular Expression\n",
        "import re\n",
        "p = re.compile('[b-r]')\n",
        "print(p.findall(\"krishna vardhan\"))\n"
      ],
      "execution_count": null,
      "outputs": [
        {
          "output_type": "stream",
          "text": [
            "Hello, good morning.\n",
            "Length of s = 16\n",
            "The first occurrence of the letter a = 6\n",
            "a occurs 3 times\n",
            "The first five characters are 'krish'\n",
            "The next five characters are 'na va'\n",
            "The thirteenth character is 'h'\n",
            "The characters with odd index are 'rsn ada?'\n",
            "The last five characters are 'dhan?'\n",
            "String in uppercase: KRISHNA VARDHAN?\n",
            "String in lowercase: krishna vardhan?\n",
            "Split the words of the string: ['krishna', 'vardhan?']\n",
            "['k', 'r', 'i', 'h', 'n', 'r', 'd', 'h', 'n']\n"
          ],
          "name": "stdout"
        }
      ]
    },
    {
      "cell_type": "markdown",
      "metadata": {
        "id": "gkHgh6rqlKaU"
      },
      "source": [
        "#Exercise 3"
      ]
    },
    {
      "cell_type": "markdown",
      "metadata": {
        "id": "L8_Wf0dHlPWe"
      },
      "source": [
        "**Write a program to print Class and Object**"
      ]
    },
    {
      "cell_type": "code",
      "metadata": {
        "colab": {
          "base_uri": "https://localhost:8080/"
        },
        "id": "0dzfuzuSkc3R",
        "outputId": "89163175-2d4b-4f68-efd6-11ed35fb3e9d"
      },
      "source": [
        "class car:\n",
        "  toyota = 'supra'\n",
        "\n",
        "  def greet(self):\n",
        "    return \"Good morning\"\n",
        "#OBJECT\n",
        "p1=car\n",
        "print(p1.toyota)\n",
        "print(p1.greet('Hello'))"
      ],
      "execution_count": null,
      "outputs": [
        {
          "output_type": "stream",
          "text": [
            "supra\n",
            "Good morning\n"
          ],
          "name": "stdout"
        }
      ]
    },
    {
      "cell_type": "markdown",
      "metadata": {
        "id": "aj6VdxznmRB5"
      },
      "source": [
        "**Write a Program to implement Static and Instance methods, Abstract Classes and \n",
        "Interfaces.**"
      ]
    },
    {
      "cell_type": "code",
      "metadata": {
        "colab": {
          "base_uri": "https://localhost:8080/"
        },
        "id": "s1fZgKealZ-A",
        "outputId": "208dba35-ee0b-4d30-c012-adfe76bd00c1"
      },
      "source": [
        "class sum:\n",
        "\n",
        "    def addNumbers(x, y):\n",
        "        return x + y\n",
        "\n",
        "sum.addNumbers = staticmethod(sum.addNumbers)\n",
        "\n",
        "print('The sum is:', sum.addNumbers(1823,98645))"
      ],
      "execution_count": null,
      "outputs": [
        {
          "output_type": "stream",
          "text": [
            "The sum is: 100468\n"
          ],
          "name": "stdout"
        }
      ]
    },
    {
      "cell_type": "code",
      "metadata": {
        "colab": {
          "base_uri": "https://localhost:8080/"
        },
        "id": "CxcZ11uzncNA",
        "outputId": "31166b70-41a9-4c8a-bffb-50f12d694012"
      },
      "source": [
        "#instance method\n",
        "class shape:\n",
        "\n",
        "\tdef __init__(self, edge, color):\n",
        "\t\tself.edge = edge\n",
        "\t\tself.color = color\n",
        "\n",
        "\tdef finEdges(self):\n",
        "\t\treturn self.edge\n",
        "\n",
        "\tdef modifyEdges(self, newedge):\n",
        "\t\tself.edge = newedge\n",
        "\n",
        "circle = shape(0, 'red')\n",
        "square = shape(4, 'blue')\n",
        "\n",
        "print(\"No. of edges for circle: \"+ str(circle.finEdges()))\n",
        "\n",
        "square.modifyEdges(6)\n",
        "\n",
        "print(\"No. of edges for square: \"+ str(square.finEdges()))\n"
      ],
      "execution_count": null,
      "outputs": [
        {
          "output_type": "stream",
          "text": [
            "No. of edges for circle: 0\n",
            "No. of edges for square: 6\n"
          ],
          "name": "stdout"
        }
      ]
    },
    {
      "cell_type": "code",
      "metadata": {
        "colab": {
          "base_uri": "https://localhost:8080/"
        },
        "id": "3c_TksHWpHWG",
        "outputId": "914a4d00-7701-4bff-df35-2599a2368e15"
      },
      "source": [
        "#abstract class\n",
        "from abc import ABC, abstractmethod\n",
        "\n",
        "class Polygon(ABC):\n",
        "\n",
        "\t@abstractmethod\n",
        "\tdef noofsides(self):\n",
        "\t\tpass\n",
        "\n",
        "class Triangle(Polygon):\n",
        "\n",
        "\t# overriding abstract method\n",
        "\tdef noofsides(self):\n",
        "\t\tprint(\"Triangle - 3\")\n",
        "\n",
        "class Pentagon(Polygon):\n",
        "\n",
        "\t# overriding abstract method\n",
        "\tdef noofsides(self):\n",
        "\t\tprint(\"Pentagon - 5\")\n",
        "\n",
        "class Hexagon(Polygon):\n",
        "\n",
        "\t# overriding abstract method\n",
        "\tdef noofsides(self):\n",
        "\t\tprint(\"Hexagon - 6\")\n",
        "\n",
        "class Quadrilateral(Polygon):\n",
        "\n",
        "\t# overriding abstract method\n",
        "\tdef noofsides(self):\n",
        "\t\tprint(\"Quadrilateral - 4\")\n",
        "\n",
        "# Driver code\n",
        "R = Triangle()\n",
        "R.noofsides()\n",
        "\n",
        "K = Quadrilateral()\n",
        "K.noofsides()\n",
        "\n",
        "R = Pentagon()\n",
        "R.noofsides()\n",
        "\n",
        "K = Hexagon()\n",
        "K.noofsides()\n"
      ],
      "execution_count": null,
      "outputs": [
        {
          "output_type": "stream",
          "text": [
            "Triangle - 3\n",
            "Quadrilateral - 4\n",
            "Pentagon - 5\n",
            "Hexagon - 6\n"
          ],
          "name": "stdout"
        }
      ]
    },
    {
      "cell_type": "markdown",
      "metadata": {
        "id": "HPHTURKVyG7e"
      },
      "source": [
        "**Write a program to compute distance between two points taking input from user**"
      ]
    },
    {
      "cell_type": "code",
      "metadata": {
        "colab": {
          "base_uri": "https://localhost:8080/"
        },
        "id": "d1p_cC3AsUOD",
        "outputId": "c8fd6bd4-0438-416b-9cac-ed6dcc4c36a6"
      },
      "source": [
        "import math\n",
        "a = int (input('Enter a first number :'))\n",
        "b = int (input('Enter a second number :'))\n",
        "distance = a**2 + b**2\n",
        "print(distance)\n",
        "math.sqrt(distance)"
      ],
      "execution_count": null,
      "outputs": [
        {
          "output_type": "stream",
          "text": [
            "Enter a first number :1\n",
            "Enter a second number :5\n",
            "26\n"
          ],
          "name": "stdout"
        },
        {
          "output_type": "execute_result",
          "data": {
            "text/plain": [
              "5.0990195135927845"
            ]
          },
          "metadata": {
            "tags": []
          },
          "execution_count": 60
        }
      ]
    },
    {
      "cell_type": "markdown",
      "metadata": {
        "id": "nGUqEwjNzIRh"
      },
      "source": [
        "#Exercise 4"
      ]
    },
    {
      "cell_type": "markdown",
      "metadata": {
        "id": "uPvmAYBRzMFX"
      },
      "source": [
        "**Write a program to implement inheritance and polymorphism**"
      ]
    },
    {
      "cell_type": "code",
      "metadata": {
        "colab": {
          "base_uri": "https://localhost:8080/"
        },
        "id": "sRKDH2kqy7oZ",
        "outputId": "db12f130-2c34-46b0-d877-84c55c5f96a0"
      },
      "source": [
        "#Inheritance\n",
        "class Person(object):\n",
        "    def __init__(self, name):\n",
        "        self.name = name\n",
        "\n",
        "    def get_name_of_the_person(self):\n",
        "        return self.name\n",
        "\n",
        "    def is_Employee(self):\n",
        "        return False\n",
        "   \n",
        "# Subclass.\n",
        "class Employee(Person):\n",
        "   \n",
        "    # Here we return true\n",
        "    def is_Employee(self):\n",
        "        return True\n",
        "   \n",
        "# Driver code\n",
        "emp = Person(\"kv\")\n",
        "print(emp.get_name_of_the_person(), emp.is_Employee())\n",
        "   \n",
        "emp = Employee(\"Ba\") # An Object of Employee\n",
        "print(emp.get_name_of_the_person(), emp.is_Employee())"
      ],
      "execution_count": null,
      "outputs": [
        {
          "output_type": "stream",
          "text": [
            "kv False\n",
            "Ba True\n"
          ],
          "name": "stdout"
        }
      ]
    },
    {
      "cell_type": "code",
      "metadata": {
        "colab": {
          "base_uri": "https://localhost:8080/"
        },
        "id": "ObE-ZPCdzb8l",
        "outputId": "e2f1cb4d-22f8-43f4-c823-cc223b03a13d"
      },
      "source": [
        "#polymorphism\n",
        "class Student():\n",
        "    def name(self):\n",
        "        print(\"Name of the student is xyz.\")\n",
        "  \n",
        "    def language(self):\n",
        "        print(\"He speaks English and Telugu.\")\n",
        "  \n",
        "    def type(self):\n",
        "        print(\"He is one of the average students in his class.\")\n",
        "\n",
        "class Faculty():\n",
        "    def name(self):\n",
        "        print()\n",
        "        print(\"Name of the faculty is XYZ.\")\n",
        "  \n",
        "    def language(self):\n",
        "        print(\"He speaks English. \")\n",
        "  \n",
        "    def type(self):\n",
        "        print(\"He is one of the best faculty in his department.\")\n",
        "  \n",
        "obj_student = Student()\n",
        "obj_faculty = Faculty()\n",
        "for elements in (obj_student, obj_faculty):\n",
        "    elements.name()\n",
        "    elements.language()\n",
        "    elements.type()"
      ],
      "execution_count": null,
      "outputs": [
        {
          "output_type": "stream",
          "text": [
            "Name of the student is xyz.\n",
            "He speaks English and Telugu.\n",
            "He is one of the average students in his class.\n",
            "\n",
            "Name of the faculty is XYZ.\n",
            "He speaks English. \n",
            "He is one of the best faculty in his department.\n"
          ],
          "name": "stdout"
        }
      ]
    },
    {
      "cell_type": "code",
      "metadata": {
        "colab": {
          "base_uri": "https://localhost:8080/"
        },
        "id": "9V0TQD5f09hH",
        "outputId": "f08a631b-0dcd-445d-87ab-b15efb78c0c0"
      },
      "source": [
        "# Writing a file.\n",
        "file_object = open('1st_file.txt',\"w+\")\n",
        "for i in range(4):\n",
        "  file_object.write(\"Never ever give Up.\\n\")\n",
        "file_object.close()\n",
        "\n",
        "# Reading the file.\n",
        "file_object = open ('1st_file.txt',\"r\")\n",
        "if file_object.mode == 'r':\n",
        "  words = file_object.read()\n",
        "print(words)\n",
        "\n",
        "# Appending a file\n",
        "\n",
        "file_object = open('1st_file.txt',\"a+\")\n",
        "for i in range(0,4,2):\n",
        "     file_object.write(\"krishna\\n\")\n",
        "file_object.close()\n",
        "# Reading after appending.\n",
        "file_object = open('1st_file.txt',\"r\")\n",
        "\n",
        "if file_object.mode == \"r\":\n",
        "  contents = file_object.read()\n",
        "print(contents)# Appending a file\n",
        "\n",
        "file_object = open('1st_file.txt',\"a+\")\n",
        "for i in range(0,4,2):\n",
        "     file_object.write(\"krishna\\n\")\n",
        "file_object.close()\n",
        "# Reading after appending.\n",
        "file_object = open('1st_file.txt',\"r\")\n",
        "\n",
        "if file_object.mode == \"r\":\n",
        "  contents = file_object.read()\n",
        "print(contents)"
      ],
      "execution_count": null,
      "outputs": [
        {
          "output_type": "stream",
          "text": [
            "Never ever give Up.\n",
            "Never ever give Up.\n",
            "Never ever give Up.\n",
            "Never ever give Up.\n",
            "\n",
            "Never ever give Up.\n",
            "Never ever give Up.\n",
            "Never ever give Up.\n",
            "Never ever give Up.\n",
            "krishna\n",
            "krishna\n",
            "\n",
            "Never ever give Up.\n",
            "Never ever give Up.\n",
            "Never ever give Up.\n",
            "Never ever give Up.\n",
            "krishna\n",
            "krishna\n",
            "krishna\n",
            "krishna\n",
            "\n"
          ],
          "name": "stdout"
        }
      ]
    },
    {
      "cell_type": "code",
      "metadata": {
        "colab": {
          "base_uri": "https://localhost:8080/"
        },
        "id": "ykgavSH77Z-O",
        "outputId": "77849fd6-89c2-4ec0-b23b-dc78dc254b59"
      },
      "source": [
        "#zero divison Error\n",
        "var1 = int (input('Enter a number from (0-9) :'))\n",
        "var2 = int (input('Enter a number from (0-9) :'))\n",
        "print(\"zero divison error\")\n",
        "try :\n",
        "  division = var1/var2\n",
        "  print('The divsion of two variables {} and {} is {}'.format(var1,var2,division))\n",
        "\n",
        "except (ZeroDivisionError):\n",
        "  print('Cant divide the {} and {}'.format(var1,var2))\n",
        "#index error\n",
        "lst = [2,4,6,8,12,32,441,100]\n",
        "print('Total no of elements in the list are : ',len(lst))\n",
        "i = int(input('Enter an index number below {} : '.format(len(lst))))\n",
        "print(\"index error\")\n",
        "try:\n",
        "  lst[i]\n",
        "  print('The value at {} location is {}'.format(i,lst[i]))\n",
        "except IndexError:\n",
        "  print('Element cannot be found !!')"
      ],
      "execution_count": null,
      "outputs": [
        {
          "output_type": "stream",
          "text": [
            "Enter a number from (0-9) :1\n",
            "Enter a number from (0-9) :5\n",
            "zero divison error\n",
            "The divsion of two variables 1 and 5 is 0.2\n",
            "Total no of elements in the list are :  8\n",
            "Enter an index number below 8 : 7\n",
            "index error\n",
            "The value at 7 location is 100\n"
          ],
          "name": "stdout"
        }
      ]
    },
    {
      "cell_type": "markdown",
      "metadata": {
        "id": "aBBmpBQZohAH"
      },
      "source": [
        "#Exercise 5\n"
      ]
    },
    {
      "cell_type": "markdown",
      "metadata": {
        "id": "PbNOPsmBoo4w"
      },
      "source": [
        "**Write a program using scikit learn model to implement k-means clustering** "
      ]
    },
    {
      "cell_type": "code",
      "metadata": {
        "colab": {
          "base_uri": "https://localhost:8080/",
          "height": 335
        },
        "id": "3e9VrTTV9UiY",
        "outputId": "963a7233-3055-4ca9-8b64-86ca821fd329"
      },
      "source": [
        "import matplotlib.pyplot as plt\n",
        "%matplotlib inline\n",
        "import numpy as np\n",
        "from sklearn.cluster import KMeans\n",
        "X = np.array([[5,3],\n",
        "     [10,15],\n",
        "     [15,12],\n",
        "     [24,10],\n",
        "     [30,45],\n",
        "     [85,70],\n",
        "     [71,80],\n",
        "     [60,78],\n",
        "     [55,52],\n",
        "     [80,91],])\n",
        "plt.scatter(X[:,0],X[:,1], label='True Position')\n",
        "kmeans = KMeans(n_clusters=2)\n",
        "kmeans.fit(X)\n",
        "print(kmeans.cluster_centers_)\n",
        "print(kmeans.labels_)\n",
        "plt.scatter(X[:,0],X[:,1], c=kmeans.labels_, cmap='rainbow')\n",
        "plt.scatter(X[:,0], X[:,1], c=kmeans.labels_, cmap='rainbow')\n",
        "plt.scatter(kmeans.cluster_centers_[:,0] ,kmeans.cluster_centers_[:,1], color='black')"
      ],
      "execution_count": null,
      "outputs": [
        {
          "output_type": "stream",
          "text": [
            "[[16.8 17. ]\n",
            " [70.2 74.2]]\n",
            "[0 0 0 0 0 1 1 1 1 1]\n"
          ],
          "name": "stdout"
        },
        {
          "output_type": "execute_result",
          "data": {
            "text/plain": [
              "<matplotlib.collections.PathCollection at 0x7f6a74b21450>"
            ]
          },
          "metadata": {
            "tags": []
          },
          "execution_count": 68
        },
        {
          "output_type": "display_data",
          "data": {
            "image/png": "[encoded data removed]",
            "text/plain": [
              "<Figure size 432x288 with 1 Axes>"
            ]
          },
          "metadata": {
            "tags": [],
            "needs_background": "light"
          }
        }
      ]
    },
    {
      "cell_type": "markdown",
      "metadata": {
        "id": "odcWNHNVpIxf"
      },
      "source": [
        "**Write a program to calculate entropy and information gain**"
      ]
    },
    {
      "cell_type": "code",
      "metadata": {
        "colab": {
          "base_uri": "https://localhost:8080/"
        },
        "id": "08rNKQzu-H1Y",
        "outputId": "b8ec4375-77d5-493b-8a3b-b8f849928b02"
      },
      "source": [
        "from __future__ import division\n",
        "from math import log\n",
        "\n",
        "\n",
        "def entropy(pi):\n",
        "   \n",
        "\n",
        "    total = 0\n",
        "    for p in pi:\n",
        "        p = p / sum(pi)\n",
        "        if p != 0:\n",
        "            total += p * log(p, 2)\n",
        "        else:\n",
        "            total += 0\n",
        "    total *= -1\n",
        "    return total\n",
        "\n",
        "\n",
        "def gain(d, a):\n",
        "    '''\n",
        "    return the information gain:\n",
        "    gain(D, A) = entropy(D)−􏰋 SUM ( |Di| / |D| * entropy(Di) )\n",
        "    '''\n",
        "\n",
        "    total = 0\n",
        "    for v in a:\n",
        "        total += sum(v) / sum(d) * entropy(v)\n",
        "\n",
        "    gain = entropy(d) - total\n",
        "    return gain\n",
        "\n",
        "\n",
        "# TEST\n",
        "\n",
        "###__ example 1 (AIMA book, fig18.3)\n",
        "\n",
        "# set of example of the dataset\n",
        "willWait = [6, 6] # Yes, No\n",
        "\n",
        "# attribute, number of members (feature)\n",
        "patron = [ [4,0], [2,4], [0,2] ] # Some, Full, None\n",
        "\n",
        "print(gain(willWait, patron))\n",
        "\n",
        "\n",
        "###__ example 2 (playTennis homework)\n",
        "\n",
        "# set of example of the dataset\n",
        "playTennis = [9, 5] # Yes, No\n",
        "\n",
        "# attribute, number of members (feature)\n",
        "outlook = [\n",
        "    [4, 0],  # overcase\n",
        "    [2, 3],  # sunny\n",
        "    [3, 2]   # rain\n",
        "]\n",
        "temperature = [\n",
        "    [2, 2],  # hot\n",
        "    [3, 1],  # cool\n",
        "    [4, 2]   # mild\n",
        "]\n",
        "humidity = [\n",
        "    [3, 4],  # high\n",
        "    [6, 1]   # normal\n",
        "]\n",
        "wind = [\n",
        "    [6, 2],  # weak\n",
        "    [3, 3]   # strong\n",
        "]\n",
        "\n",
        "print(gain(playTennis, outlook))\n",
        "print(gain(playTennis, temperature))\n",
        "print(gain(playTennis, humidity))\n",
        "print(gain(playTennis, wind))"
      ],
      "execution_count": null,
      "outputs": [
        {
          "output_type": "stream",
          "text": [
            "0.5408520829727552\n",
            "0.2467498197744391\n",
            "0.029222565658954647\n",
            "0.15183550136234136\n",
            "0.04812703040826927\n"
          ],
          "name": "stdout"
        }
      ]
    },
    {
      "cell_type": "markdown",
      "metadata": {
        "id": "IUSUd3hhAhvF"
      },
      "source": [
        "**program to implement perceptron**"
      ]
    },
    {
      "cell_type": "code",
      "metadata": {
        "colab": {
          "base_uri": "https://localhost:8080/",
          "height": 278
        },
        "id": "6tXEX7Px-obs",
        "outputId": "41b65dc3-4360-4fbf-b8bd-cd827fb0ccf4"
      },
      "source": [
        "#import packages\n",
        "import sklearn.datasets\n",
        "import numpy as np\n",
        "import pandas as pd\n",
        "import matplotlib.pyplot as plt\n",
        "from sklearn.model_selection import train_test_split\n",
        "\n",
        "#load the breast cancer data\n",
        "breast_cancer = sklearn.datasets.load_breast_cancer()\n",
        "\n",
        "#convert the data to pandas dataframe.\n",
        "data = pd.DataFrame(breast_cancer.data, columns = breast_cancer.feature_names)\n",
        "data[\"class\"] = breast_cancer.target\n",
        "data.head()\n",
        "data.describe()\n",
        "\n",
        "#plotting a graph to see class imbalance\n",
        "data['class'].value_counts().plot(kind = \"barh\")\n",
        "plt.xlabel(\"Count\")\n",
        "plt.ylabel(\"Classes\")\n",
        "plt.show()\n",
        "\n",
        "from sklearn.preprocessing import MinMaxScaler\n",
        "#perform scaling on the data.\n",
        "X = data.drop(\"class\", axis = 1)\n",
        "Y = data[\"class\"]\n",
        "mnscaler = MinMaxScaler()\n",
        "X = mnscaler.fit_transform(X)\n",
        "X = pd.DataFrame(X, columns=data.drop(\"class\",axis = 1).columns)\n",
        "\n",
        "#train test split.\n",
        "X_train, X_test, Y_train, Y_test = train_test_split(X,Y, test_size = 0.1, stratify = Y, random_state = 1)\n",
        "class Perceptron:\n",
        "  \n",
        "  #constructor\n",
        "  def __init__ (self):\n",
        "    self.w = None\n",
        "    self.b = None\n",
        "    \n",
        "  #model  \n",
        "  def model(self, x):\n",
        "    return 1 if (np.dot(self.w, x) >= self.b) else 0\n",
        "  \n",
        "  #predictor to predict on the data based on w\n",
        "  def predict(self, X):\n",
        "    Y = []\n",
        "    for x in X:\n",
        "      result = self.model(x)\n",
        "      Y.append(result)\n",
        "    return np.array(Y)\n",
        "    \n",
        "  def fit(self, X, Y, epochs = 1, lr = 1):\n",
        "    self.w = np.ones(X.shape[1])\n",
        "    self.b = 0\n",
        "    accuracy = {}\n",
        "    max_accuracy = 0\n",
        "    wt_matrix = []\n",
        "    #for all epochs\n",
        "    for i in range(epochs):\n",
        "      for x, y in zip(X, Y):\n",
        "        y_pred = self.model(x)\n",
        "        if y == 1 and y_pred == 0:\n",
        "          self.w = self.w + lr * x\n",
        "          self.b = self.b - lr * 1\n",
        "        elif y == 0 and y_pred == 1:\n",
        "          self.w = self.w - lr * x\n",
        "          self.b = self.b + lr * 1\n",
        "          \n",
        "      wt_matrix.append(self.w)    \n",
        "      accuracy[i] = accuracy_score(self.predict(X), Y)\n",
        "      if (accuracy[i] > max_accuracy):\n",
        "        max_accuracy = accuracy[i]\n",
        "        chkptw = self.w\n",
        "        chkptb = self.b\n",
        "    #checkpoint (Save the weights and b value)\n",
        "    self.w = chkptw\n",
        "    self.b = chkptb\n",
        "        \n",
        "    print(max_accuracy)\n",
        "    #plot the accuracy values over epochs\n",
        "    plt.plot(accuracy.values())\n",
        "    plt.xlabel(\"Epoch #\")\n",
        "    plt.ylabel(\"Accuracy\")\n",
        "    plt.ylim([0, 1])\n",
        "    plt.show()\n",
        "    \n",
        "    #return the weight matrix, that contains weights over all epochs\n",
        "    return np.array(wt_matrix)\n",
        "    perceptron = Perceptron()"
      ],
      "execution_count": null,
      "outputs": [
        {
          "output_type": "display_data",
          "data": {
            "image/png": "[encoded data removed]",
            "text/plain": [
              "<Figure size 432x288 with 1 Axes>"
            ]
          },
          "metadata": {
            "tags": [],
            "needs_background": "light"
          }
        }
      ]
    },
    {
      "cell_type": "markdown",
      "metadata": {
        "id": "SiJe6kBcAqX7"
      },
      "source": [
        "#Exercise 6"
      ]
    },
    {
      "cell_type": "markdown",
      "metadata": {
        "id": "vOKO0JD2Awze"
      },
      "source": [
        "**Generate a decision tree. Find the Depth of decision trees and observe the results, then \n",
        "propose some changes in DecisionTreeClassifier function to limit.**"
      ]
    },
    {
      "cell_type": "code",
      "metadata": {
        "colab": {
          "base_uri": "https://localhost:8080/"
        },
        "id": "3GVhBWohAl3j",
        "outputId": "c2693b41-aaa8-4d63-cd47-6395baef56d5"
      },
      "source": [
        "class Node:\n",
        " \n",
        "   \n",
        "    def __init__(self, data):\n",
        "        self.data = data\n",
        "        self.left = None\n",
        "        self.right = None\n",
        " \n",
        "\n",
        "def maxDepth(node):\n",
        "    if node is None:\n",
        "        return 0 ;\n",
        " \n",
        "    else :\n",
        "        lDepth = maxDepth(node.left)\n",
        "        rDepth = maxDepth(node.right)\n",
        " \n",
        "        \n",
        "        if (lDepth > rDepth):\n",
        "            return lDepth+1\n",
        "        else:\n",
        "            return rDepth+1\n",
        " \n",
        " \n",
        "\n",
        "root = Node(20)\n",
        "root.left = Node(30)\n",
        "root.right = Node(48)\n",
        "root.left.left = Node(15)\n",
        "root.left.right = Node(50)\n",
        " \n",
        " \n",
        "print (\"Height of tree is %d\" %(maxDepth(root)))"
      ],
      "execution_count": null,
      "outputs": [
        {
          "output_type": "stream",
          "text": [
            "Height of tree is 3\n"
          ],
          "name": "stdout"
        }
      ]
    },
    {
      "cell_type": "markdown",
      "metadata": {
        "id": "WvkEt61mBG2G"
      },
      "source": [
        "**Occupancy estimator using random forest**"
      ]
    },
    {
      "cell_type": "markdown",
      "metadata": {
        "id": "c0sxKzt-BQAs"
      },
      "source": [
        "#Exercise 8"
      ]
    },
    {
      "cell_type": "markdown",
      "metadata": {
        "id": "fBmYnP6xBWAO"
      },
      "source": [
        "**Program using pandas**"
      ]
    },
    {
      "cell_type": "code",
      "metadata": {
        "colab": {
          "base_uri": "https://localhost:8080/"
        },
        "id": "c65plBIgA2z2",
        "outputId": "33af60cd-a470-4497-a2b4-090f5a593324"
      },
      "source": [
        "dict = {\"country\": [\"Brazil\", \"Russia\", \"India\", \"China\", \"South Africa\"],\n",
        "       \"capital\": [\"Brasilia\", \"Moscow\", \"New Dehli\", \"Beijing\", \"Pretoria\"],\n",
        "       \"area\": [8.516, 17.10, 3.286, 9.597, 1.221],\n",
        "       \"population\": [200.4, 143.5, 1252, 1357, 52.98] }\n",
        "\n",
        "import pandas as pd\n",
        "brics = pd.DataFrame(dict)\n",
        "print(brics)"
      ],
      "execution_count": null,
      "outputs": [
        {
          "output_type": "stream",
          "text": [
            "        country    capital    area  population\n",
            "0        Brazil   Brasilia   8.516      200.40\n",
            "1        Russia     Moscow  17.100      143.50\n",
            "2         India  New Dehli   3.286     1252.00\n",
            "3         China    Beijing   9.597     1357.00\n",
            "4  South Africa   Pretoria   1.221       52.98\n"
          ],
          "name": "stdout"
        }
      ]
    },
    {
      "cell_type": "markdown",
      "metadata": {
        "id": "LT5cWMEeB0oH"
      },
      "source": [
        "**Program using Matplotlib**"
      ]
    },
    {
      "cell_type": "code",
      "metadata": {
        "colab": {
          "base_uri": "https://localhost:8080/",
          "height": 264
        },
        "id": "D7ehtYoqBxEJ",
        "outputId": "da0808e3-727e-40ee-f127-30ea1aac2894"
      },
      "source": [
        "import matplotlib.pyplot as plt\n",
        " \n",
        "days = [1,2,3,4,5]\n",
        " \n",
        "sleeping =[4,1,5,11,3]\n",
        "eating = [5,2,3,1,6]\n",
        "working =[8,1,3,6,2]\n",
        "playing = [8,5,7,8,13]\n",
        "slices = [7,2,2,13]\n",
        "activities = ['sleeping','eating','working','playing']\n",
        "cols = ['c','m','r','b']\n",
        " \n",
        "plt.pie(slices,\n",
        "  labels=activities,\n",
        "  colors=cols,\n",
        "  startangle=90,\n",
        "  shadow= True,\n",
        "  explode=(0,0.1,0,0),\n",
        "  autopct='%1.1f%%')\n",
        " \n",
        "plt.title('Pie Plot')\n",
        "plt.show()"
      ],
      "execution_count": null,
      "outputs": [
        {
          "output_type": "display_data",
          "data": {
            "image/png": "[encoded data removed]",
            "text/plain": [
              "<Figure size 432x288 with 1 Axes>"
            ]
          },
          "metadata": {
            "tags": []
          }
        }
      ]
    },
    {
      "cell_type": "markdown",
      "metadata": {
        "id": "k6EonZkvCN_G"
      },
      "source": [
        "#Exercise 9"
      ]
    },
    {
      "cell_type": "markdown",
      "metadata": {
        "id": "jBVMv4HECRkc"
      },
      "source": [
        "**Graph using matplotlib**"
      ]
    },
    {
      "cell_type": "code",
      "metadata": {
        "colab": {
          "base_uri": "https://localhost:8080/",
          "height": 294
        },
        "id": "AX1522hqB6Ri",
        "outputId": "1b97f96f-dff7-4e17-83d8-f64b3ee3a46a"
      },
      "source": [
        "import matplotlib.pyplot as plt\n",
        "x = [1,4,5]\n",
        "y = [1,2,6]\n",
        "plt.plot(x, y)\n",
        "plt.xlabel('x - axis')\n",
        "plt.ylabel('y - axis')\n",
        "plt.title('graph')\n",
        "plt.show()"
      ],
      "execution_count": null,
      "outputs": [
        {
          "output_type": "display_data",
          "data": {
            "image/png": "[encoded data removed]",
            "text/plain": [
              "<Figure size 432x288 with 1 Axes>"
            ]
          },
          "metadata": {
            "tags": [],
            "needs_background": "light"
          }
        }
      ]
    },
    {
      "cell_type": "markdown",
      "metadata": {
        "id": "UF9vefZGCmfq"
      },
      "source": [
        "#Exercise 10"
      ]
    },
    {
      "cell_type": "markdown",
      "metadata": {
        "id": "0NbhHgqhCpjm"
      },
      "source": [
        "**Vector using matplotlib**"
      ]
    },
    {
      "cell_type": "code",
      "metadata": {
        "colab": {
          "base_uri": "https://localhost:8080/",
          "height": 1000
        },
        "id": "--9uYcCKCW9F",
        "outputId": "580adada-65f9-45a9-f26c-b433205bd176"
      },
      "source": [
        "import numpy as np\n",
        "import matplotlib.pyplot as plt\n",
        "M = np.array([[1,1],[-2,2],[4,-7]])\n",
        "\n",
        "print(\"vector:1\")\n",
        "print(M[0,:])\n",
        "rows,cols = M.T.shape\n",
        "print(cols)\n",
        "\n",
        "for i,l in enumerate(range(0,cols)):\n",
        "    print(\"Iteration: {}-{}\".format(i,l))\n",
        "    print(\"vector:{}\".format(i))\n",
        "    print(M[i,:])\n",
        "    v1 = [0,0],[M[i,0],M[i,1]]\n",
        "    print(v1)\n",
        "    plt.figure(i)\n",
        "    plt.plot(v1)\n",
        "    plt.show()"
      ],
      "execution_count": null,
      "outputs": [
        {
          "output_type": "stream",
          "text": [
            "vector:1\n",
            "[1 1]\n",
            "3\n",
            "Iteration: 0-0\n",
            "vector:0\n",
            "[1 1]\n",
            "([0, 0], [1, 1])\n"
          ],
          "name": "stdout"
        },
        {
          "output_type": "display_data",
          "data": {
            "image/png": "[encoded data removed]",
            "text/plain": [
              "<Figure size 432x288 with 1 Axes>"
            ]
          },
          "metadata": {
            "tags": [],
            "needs_background": "light"
          }
        },
        {
          "output_type": "stream",
          "text": [
            "Iteration: 1-1\n",
            "vector:1\n",
            "[-2  2]\n",
            "([0, 0], [-2, 2])\n"
          ],
          "name": "stdout"
        },
        {
          "output_type": "display_data",
          "data": {
            "image/png": "[encoded data removed]",
            "text/plain": [
              "<Figure size 432x288 with 1 Axes>"
            ]
          },
          "metadata": {
            "tags": [],
            "needs_background": "light"
          }
        },
        {
          "output_type": "stream",
          "text": [
            "Iteration: 2-2\n",
            "vector:2\n",
            "[ 4 -7]\n",
            "([0, 0], [4, -7])\n"
          ],
          "name": "stdout"
        },
        {
          "output_type": "display_data",
          "data": {
            "image/png": "[encoded data removed]",
            "text/plain": [
              "<Figure size 432x288 with 1 Axes>"
            ]
          },
          "metadata": {
            "tags": [],
            "needs_background": "light"
          }
        }
      ]
    }
  ]
}